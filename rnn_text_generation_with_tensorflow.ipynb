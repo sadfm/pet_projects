{
  "metadata": {
    "kernelspec": {
      "display_name": "Python 3",
      "name": "python3"
    },
    "language_info": {
      "name": "python",
      "version": "3.10.12",
      "mimetype": "text/x-python",
      "codemirror_mode": {
        "name": "ipython",
        "version": 3
      },
      "pygments_lexer": "ipython3",
      "nbconvert_exporter": "python",
      "file_extension": ".py"
    },
    "colab": {
      "provenance": [],
      "gpuType": "T4"
    },
    "accelerator": "GPU"
  },
  "nbformat_minor": 0,
  "nbformat": 4,
  "cells": [
    {
      "cell_type": "markdown",
      "source": [
        "#RNN-модель для генерации текста с помощью Tensorflow и Keras"
      ],
      "metadata": {
        "id": "05_OnGecBkt9"
      }
    },
    {
      "cell_type": "markdown",
      "source": [
        "##Импорты"
      ],
      "metadata": {
        "id": "iw0HZIwlBkuC"
      }
    },
    {
      "cell_type": "markdown",
      "source": [
        "Для обучения воспользуемся [датасетом](https://www.kaggle.com/datasets/lizakonopelko/disco-elysium-dialogue-texts), состоящим из всего текста игры Disco Elysium"
      ],
      "metadata": {
        "id": "HGbWMQjmSHGA"
      }
    },
    {
      "cell_type": "code",
      "source": [
        "import tensorflow as tf\n",
        "import numpy as np\n",
        "import pandas as pd\n",
        "import matplotlib.pyplot as plt\n",
        "\n",
        "from tensorflow.keras.layers import Embedding, LSTM, Dense, Dropout, Bidirectional, GlobalAveragePooling1D\n",
        "from tensorflow.keras.models import Sequential\n",
        "from tensorflow.keras.preprocessing.sequence import pad_sequences\n",
        "from tensorflow.keras.preprocessing.text import Tokenizer\n",
        "from tensorflow.keras.utils import to_categorical"
      ],
      "metadata": {
        "_uuid": "8f2839f25d086af736a60e9eeb907d3b93b6e0e5",
        "_cell_guid": "b1076dfc-b9ad-4769-8c92-a6c4dae69d19",
        "execution": {
          "iopub.status.busy": "2023-10-20T02:43:08.945878Z",
          "iopub.execute_input": "2023-10-20T02:43:08.947212Z",
          "iopub.status.idle": "2023-10-20T02:43:19.384490Z",
          "shell.execute_reply.started": "2023-10-20T02:43:08.947157Z",
          "shell.execute_reply": "2023-10-20T02:43:19.383522Z"
        },
        "trusted": true,
        "id": "acndxzphBkuC"
      },
      "execution_count": 1,
      "outputs": []
    },
    {
      "cell_type": "markdown",
      "source": [
        "### Воспользуемся MirriredStrategy, чтобы использовать все GPU\n",
        "Информация взята отсюда -> [link](https://colab.research.google.com/github/tensorflow/docs/blob/master/site/en/guide/distributed_training.ipynb)"
      ],
      "metadata": {
        "id": "SfQ7T9gHBkuE"
      }
    },
    {
      "cell_type": "code",
      "source": [
        "strategy = tf.distribute.MirroredStrategy()"
      ],
      "metadata": {
        "execution": {
          "iopub.status.busy": "2023-10-20T02:43:19.386248Z",
          "iopub.execute_input": "2023-10-20T02:43:19.387499Z",
          "iopub.status.idle": "2023-10-20T02:43:19.508055Z",
          "shell.execute_reply.started": "2023-10-20T02:43:19.387465Z",
          "shell.execute_reply": "2023-10-20T02:43:19.506951Z"
        },
        "trusted": true,
        "id": "8h2wElRTBkuF"
      },
      "execution_count": 2,
      "outputs": []
    },
    {
      "cell_type": "markdown",
      "source": [
        "# Предобработка данных\n",
        "После загрузки данных необходимо обработать текст путем приведения его в нижний регистр и удаления лишних отступов"
      ],
      "metadata": {
        "id": "Dfww3LHcBkuF"
      }
    },
    {
      "cell_type": "code",
      "source": [
        "df = pd.read_csv('/content/texts_extracted.csv', header=None, sep='\\t')\n",
        "df.rename(columns={0: \"text\"}, inplace=True)\n",
        "df['text'] = df['text'].str.replace('\"', '')\n",
        "df['text'] = df['text'].str.replace(\"'\", '')\n",
        "df.head()"
      ],
      "metadata": {
        "execution": {
          "iopub.status.busy": "2023-10-20T02:43:19.876035Z",
          "iopub.execute_input": "2023-10-20T02:43:19.876858Z",
          "iopub.status.idle": "2023-10-20T02:43:19.938152Z",
          "shell.execute_reply.started": "2023-10-20T02:43:19.876810Z",
          "shell.execute_reply": "2023-10-20T02:43:19.936953Z"
        },
        "trusted": true,
        "id": "8JWM88Z1BkuI",
        "colab": {
          "base_uri": "https://localhost:8080/",
          "height": 206
        },
        "outputId": "37350d9b-3f69-435a-e8bd-3592c6e13bcf"
      },
      "execution_count": 3,
      "outputs": [
        {
          "output_type": "execute_result",
          "data": {
            "text/plain": [
              "                                                text\n",
              "0  88... This elevator was maintained a long time...\n",
              "1  A man my age? What are you implying? Im at the...\n",
              "2  A science person? He snarls. The *so-called* s...\n",
              "3  A slow, sad song started playing. Like organ m...\n",
              "4  After life, death -- after death, life again. ..."
            ],
            "text/html": [
              "\n",
              "  <div id=\"df-b22b029b-63ec-43f6-b46b-7bf1f9a59797\" class=\"colab-df-container\">\n",
              "    <div>\n",
              "<style scoped>\n",
              "    .dataframe tbody tr th:only-of-type {\n",
              "        vertical-align: middle;\n",
              "    }\n",
              "\n",
              "    .dataframe tbody tr th {\n",
              "        vertical-align: top;\n",
              "    }\n",
              "\n",
              "    .dataframe thead th {\n",
              "        text-align: right;\n",
              "    }\n",
              "</style>\n",
              "<table border=\"1\" class=\"dataframe\">\n",
              "  <thead>\n",
              "    <tr style=\"text-align: right;\">\n",
              "      <th></th>\n",
              "      <th>text</th>\n",
              "    </tr>\n",
              "  </thead>\n",
              "  <tbody>\n",
              "    <tr>\n",
              "      <th>0</th>\n",
              "      <td>88... This elevator was maintained a long time...</td>\n",
              "    </tr>\n",
              "    <tr>\n",
              "      <th>1</th>\n",
              "      <td>A man my age? What are you implying? Im at the...</td>\n",
              "    </tr>\n",
              "    <tr>\n",
              "      <th>2</th>\n",
              "      <td>A science person? He snarls. The *so-called* s...</td>\n",
              "    </tr>\n",
              "    <tr>\n",
              "      <th>3</th>\n",
              "      <td>A slow, sad song started playing. Like organ m...</td>\n",
              "    </tr>\n",
              "    <tr>\n",
              "      <th>4</th>\n",
              "      <td>After life, death -- after death, life again. ...</td>\n",
              "    </tr>\n",
              "  </tbody>\n",
              "</table>\n",
              "</div>\n",
              "    <div class=\"colab-df-buttons\">\n",
              "\n",
              "  <div class=\"colab-df-container\">\n",
              "    <button class=\"colab-df-convert\" onclick=\"convertToInteractive('df-b22b029b-63ec-43f6-b46b-7bf1f9a59797')\"\n",
              "            title=\"Convert this dataframe to an interactive table.\"\n",
              "            style=\"display:none;\">\n",
              "\n",
              "  <svg xmlns=\"http://www.w3.org/2000/svg\" height=\"24px\" viewBox=\"0 -960 960 960\">\n",
              "    <path d=\"M120-120v-720h720v720H120Zm60-500h600v-160H180v160Zm220 220h160v-160H400v160Zm0 220h160v-160H400v160ZM180-400h160v-160H180v160Zm440 0h160v-160H620v160ZM180-180h160v-160H180v160Zm440 0h160v-160H620v160Z\"/>\n",
              "  </svg>\n",
              "    </button>\n",
              "\n",
              "  <style>\n",
              "    .colab-df-container {\n",
              "      display:flex;\n",
              "      gap: 12px;\n",
              "    }\n",
              "\n",
              "    .colab-df-convert {\n",
              "      background-color: #E8F0FE;\n",
              "      border: none;\n",
              "      border-radius: 50%;\n",
              "      cursor: pointer;\n",
              "      display: none;\n",
              "      fill: #1967D2;\n",
              "      height: 32px;\n",
              "      padding: 0 0 0 0;\n",
              "      width: 32px;\n",
              "    }\n",
              "\n",
              "    .colab-df-convert:hover {\n",
              "      background-color: #E2EBFA;\n",
              "      box-shadow: 0px 1px 2px rgba(60, 64, 67, 0.3), 0px 1px 3px 1px rgba(60, 64, 67, 0.15);\n",
              "      fill: #174EA6;\n",
              "    }\n",
              "\n",
              "    .colab-df-buttons div {\n",
              "      margin-bottom: 4px;\n",
              "    }\n",
              "\n",
              "    [theme=dark] .colab-df-convert {\n",
              "      background-color: #3B4455;\n",
              "      fill: #D2E3FC;\n",
              "    }\n",
              "\n",
              "    [theme=dark] .colab-df-convert:hover {\n",
              "      background-color: #434B5C;\n",
              "      box-shadow: 0px 1px 3px 1px rgba(0, 0, 0, 0.15);\n",
              "      filter: drop-shadow(0px 1px 2px rgba(0, 0, 0, 0.3));\n",
              "      fill: #FFFFFF;\n",
              "    }\n",
              "  </style>\n",
              "\n",
              "    <script>\n",
              "      const buttonEl =\n",
              "        document.querySelector('#df-b22b029b-63ec-43f6-b46b-7bf1f9a59797 button.colab-df-convert');\n",
              "      buttonEl.style.display =\n",
              "        google.colab.kernel.accessAllowed ? 'block' : 'none';\n",
              "\n",
              "      async function convertToInteractive(key) {\n",
              "        const element = document.querySelector('#df-b22b029b-63ec-43f6-b46b-7bf1f9a59797');\n",
              "        const dataTable =\n",
              "          await google.colab.kernel.invokeFunction('convertToInteractive',\n",
              "                                                    [key], {});\n",
              "        if (!dataTable) return;\n",
              "\n",
              "        const docLinkHtml = 'Like what you see? Visit the ' +\n",
              "          '<a target=\"_blank\" href=https://colab.research.google.com/notebooks/data_table.ipynb>data table notebook</a>'\n",
              "          + ' to learn more about interactive tables.';\n",
              "        element.innerHTML = '';\n",
              "        dataTable['output_type'] = 'display_data';\n",
              "        await google.colab.output.renderOutput(dataTable, element);\n",
              "        const docLink = document.createElement('div');\n",
              "        docLink.innerHTML = docLinkHtml;\n",
              "        element.appendChild(docLink);\n",
              "      }\n",
              "    </script>\n",
              "  </div>\n",
              "\n",
              "\n",
              "<div id=\"df-e63e6731-4e27-47c9-9361-e482ac3ab7f8\">\n",
              "  <button class=\"colab-df-quickchart\" onclick=\"quickchart('df-e63e6731-4e27-47c9-9361-e482ac3ab7f8')\"\n",
              "            title=\"Suggest charts.\"\n",
              "            style=\"display:none;\">\n",
              "\n",
              "<svg xmlns=\"http://www.w3.org/2000/svg\" height=\"24px\"viewBox=\"0 0 24 24\"\n",
              "     width=\"24px\">\n",
              "    <g>\n",
              "        <path d=\"M19 3H5c-1.1 0-2 .9-2 2v14c0 1.1.9 2 2 2h14c1.1 0 2-.9 2-2V5c0-1.1-.9-2-2-2zM9 17H7v-7h2v7zm4 0h-2V7h2v10zm4 0h-2v-4h2v4z\"/>\n",
              "    </g>\n",
              "</svg>\n",
              "  </button>\n",
              "\n",
              "<style>\n",
              "  .colab-df-quickchart {\n",
              "      --bg-color: #E8F0FE;\n",
              "      --fill-color: #1967D2;\n",
              "      --hover-bg-color: #E2EBFA;\n",
              "      --hover-fill-color: #174EA6;\n",
              "      --disabled-fill-color: #AAA;\n",
              "      --disabled-bg-color: #DDD;\n",
              "  }\n",
              "\n",
              "  [theme=dark] .colab-df-quickchart {\n",
              "      --bg-color: #3B4455;\n",
              "      --fill-color: #D2E3FC;\n",
              "      --hover-bg-color: #434B5C;\n",
              "      --hover-fill-color: #FFFFFF;\n",
              "      --disabled-bg-color: #3B4455;\n",
              "      --disabled-fill-color: #666;\n",
              "  }\n",
              "\n",
              "  .colab-df-quickchart {\n",
              "    background-color: var(--bg-color);\n",
              "    border: none;\n",
              "    border-radius: 50%;\n",
              "    cursor: pointer;\n",
              "    display: none;\n",
              "    fill: var(--fill-color);\n",
              "    height: 32px;\n",
              "    padding: 0;\n",
              "    width: 32px;\n",
              "  }\n",
              "\n",
              "  .colab-df-quickchart:hover {\n",
              "    background-color: var(--hover-bg-color);\n",
              "    box-shadow: 0 1px 2px rgba(60, 64, 67, 0.3), 0 1px 3px 1px rgba(60, 64, 67, 0.15);\n",
              "    fill: var(--button-hover-fill-color);\n",
              "  }\n",
              "\n",
              "  .colab-df-quickchart-complete:disabled,\n",
              "  .colab-df-quickchart-complete:disabled:hover {\n",
              "    background-color: var(--disabled-bg-color);\n",
              "    fill: var(--disabled-fill-color);\n",
              "    box-shadow: none;\n",
              "  }\n",
              "\n",
              "  .colab-df-spinner {\n",
              "    border: 2px solid var(--fill-color);\n",
              "    border-color: transparent;\n",
              "    border-bottom-color: var(--fill-color);\n",
              "    animation:\n",
              "      spin 1s steps(1) infinite;\n",
              "  }\n",
              "\n",
              "  @keyframes spin {\n",
              "    0% {\n",
              "      border-color: transparent;\n",
              "      border-bottom-color: var(--fill-color);\n",
              "      border-left-color: var(--fill-color);\n",
              "    }\n",
              "    20% {\n",
              "      border-color: transparent;\n",
              "      border-left-color: var(--fill-color);\n",
              "      border-top-color: var(--fill-color);\n",
              "    }\n",
              "    30% {\n",
              "      border-color: transparent;\n",
              "      border-left-color: var(--fill-color);\n",
              "      border-top-color: var(--fill-color);\n",
              "      border-right-color: var(--fill-color);\n",
              "    }\n",
              "    40% {\n",
              "      border-color: transparent;\n",
              "      border-right-color: var(--fill-color);\n",
              "      border-top-color: var(--fill-color);\n",
              "    }\n",
              "    60% {\n",
              "      border-color: transparent;\n",
              "      border-right-color: var(--fill-color);\n",
              "    }\n",
              "    80% {\n",
              "      border-color: transparent;\n",
              "      border-right-color: var(--fill-color);\n",
              "      border-bottom-color: var(--fill-color);\n",
              "    }\n",
              "    90% {\n",
              "      border-color: transparent;\n",
              "      border-bottom-color: var(--fill-color);\n",
              "    }\n",
              "  }\n",
              "</style>\n",
              "\n",
              "  <script>\n",
              "    async function quickchart(key) {\n",
              "      const quickchartButtonEl =\n",
              "        document.querySelector('#' + key + ' button');\n",
              "      quickchartButtonEl.disabled = true;  // To prevent multiple clicks.\n",
              "      quickchartButtonEl.classList.add('colab-df-spinner');\n",
              "      try {\n",
              "        const charts = await google.colab.kernel.invokeFunction(\n",
              "            'suggestCharts', [key], {});\n",
              "      } catch (error) {\n",
              "        console.error('Error during call to suggestCharts:', error);\n",
              "      }\n",
              "      quickchartButtonEl.classList.remove('colab-df-spinner');\n",
              "      quickchartButtonEl.classList.add('colab-df-quickchart-complete');\n",
              "    }\n",
              "    (() => {\n",
              "      let quickchartButtonEl =\n",
              "        document.querySelector('#df-e63e6731-4e27-47c9-9361-e482ac3ab7f8 button');\n",
              "      quickchartButtonEl.style.display =\n",
              "        google.colab.kernel.accessAllowed ? 'block' : 'none';\n",
              "    })();\n",
              "  </script>\n",
              "</div>\n",
              "    </div>\n",
              "  </div>\n"
            ]
          },
          "metadata": {},
          "execution_count": 3
        }
      ]
    },
    {
      "cell_type": "code",
      "source": [
        "dataset = df['text']\n",
        "corpus = []\n",
        "with strategy.scope():\n",
        "    for line in dataset:\n",
        "        lowercase_line = line.lower()\n",
        "        corpus.append(lowercase_line)"
      ],
      "metadata": {
        "execution": {
          "iopub.status.busy": "2023-10-20T02:43:19.939450Z",
          "iopub.execute_input": "2023-10-20T02:43:19.939815Z",
          "iopub.status.idle": "2023-10-20T02:43:19.947921Z",
          "shell.execute_reply.started": "2023-10-20T02:43:19.939779Z",
          "shell.execute_reply": "2023-10-20T02:43:19.946720Z"
        },
        "trusted": true,
        "id": "Ff6qlZFdBkuJ"
      },
      "execution_count": 4,
      "outputs": []
    },
    {
      "cell_type": "markdown",
      "source": [
        "##Токенизация текста\n",
        "\n",
        "Далее мы инициализируем токенизатор и подгоним под него наши данные. Токенизатор присваивает каждому слову числовое значение. Это необходимо для дальнейших вычислений"
      ],
      "metadata": {
        "id": "rxkKoMwBBkuJ"
      }
    },
    {
      "cell_type": "code",
      "source": [
        "tokenizer = Tokenizer()\n",
        "tokenizer.fit_on_texts(corpus)"
      ],
      "metadata": {
        "execution": {
          "iopub.status.busy": "2023-10-20T02:43:19.949972Z",
          "iopub.execute_input": "2023-10-20T02:43:19.950554Z",
          "iopub.status.idle": "2023-10-20T02:43:21.435313Z",
          "shell.execute_reply.started": "2023-10-20T02:43:19.950521Z",
          "shell.execute_reply": "2023-10-20T02:43:21.434077Z"
        },
        "trusted": true,
        "id": "t3aJi1fkBkuJ"
      },
      "execution_count": 5,
      "outputs": []
    },
    {
      "cell_type": "code",
      "source": [
        "word_to_token = tokenizer.word_index"
      ],
      "metadata": {
        "execution": {
          "iopub.status.busy": "2023-10-20T02:43:21.436556Z",
          "iopub.execute_input": "2023-10-20T02:43:21.436922Z",
          "iopub.status.idle": "2023-10-20T02:43:21.442051Z",
          "shell.execute_reply.started": "2023-10-20T02:43:21.436891Z",
          "shell.execute_reply": "2023-10-20T02:43:21.440866Z"
        },
        "trusted": true,
        "id": "JwO6ZUqmBkuM"
      },
      "execution_count": 6,
      "outputs": []
    },
    {
      "cell_type": "code",
      "source": [
        "def key_pair(num):\n",
        "    count=0\n",
        "    for key, value in word_to_token.items():\n",
        "        if count>=num: break\n",
        "        print(f''''{key:}': {value},''')\n",
        "        count +=1\n",
        "key_pair(10)\n",
        "\n",
        "total_words = len(word_to_token)+1\n",
        "print('\\nКоличество токенов: ',total_words)"
      ],
      "metadata": {
        "execution": {
          "iopub.status.busy": "2023-10-20T02:43:21.446172Z",
          "iopub.execute_input": "2023-10-20T02:43:21.446465Z",
          "iopub.status.idle": "2023-10-20T02:43:21.455412Z",
          "shell.execute_reply.started": "2023-10-20T02:43:21.446442Z",
          "shell.execute_reply": "2023-10-20T02:43:21.454053Z"
        },
        "trusted": true,
        "colab": {
          "base_uri": "https://localhost:8080/"
        },
        "id": "e24l2e4VBkuM",
        "outputId": "8cd8acf4-aa58-4f25-eaab-5333dbaa1f3d"
      },
      "execution_count": 7,
      "outputs": [
        {
          "output_type": "stream",
          "name": "stdout",
          "text": [
            "'the': 1,\n",
            "'you': 2,\n",
            "'a': 3,\n",
            "'to': 4,\n",
            "'i': 5,\n",
            "'of': 6,\n",
            "'it': 7,\n",
            "'and': 8,\n",
            "'in': 9,\n",
            "'is': 10,\n",
            "\n",
            "Количество токенов:  23918\n"
          ]
        }
      ]
    },
    {
      "cell_type": "markdown",
      "source": [
        "##Преобразование в n-граммы\n",
        "Мы хотим предсказать слово по первым нескольким словам предложения. Для этого необходимо соответствующим образом подготовить наши данные.\n",
        "\n",
        "Для этого мы преобразуем каждое предложение в n-граммы. Это означает разбиение предложения на последовательности с указанием последнего слова в качестве цели в виде:\n",
        "$$\n",
        "P(A_1, ..., A_n) = P(A_n| A_{n-1}, ..., A_1)* P(A_{n-1}| A_{n-2}, ..., A_1)*...*P(A_1)\n",
        "$$\n"
      ],
      "metadata": {
        "id": "fcbiLd2vBkuO"
      }
    },
    {
      "cell_type": "code",
      "source": [
        "input_sequences = []\n",
        "with strategy.scope():\n",
        "    for line in corpus:\n",
        "        token_list = tokenizer.texts_to_sequences([line])[0]\n",
        "        for i in range(1, len(token_list)):\n",
        "            n_gram_sequence = token_list[:i+1]\n",
        "            input_sequences.append(n_gram_sequence)"
      ],
      "metadata": {
        "execution": {
          "iopub.status.busy": "2023-10-20T02:43:21.468616Z",
          "iopub.execute_input": "2023-10-20T02:43:21.469334Z",
          "iopub.status.idle": "2023-10-20T02:43:24.167772Z",
          "shell.execute_reply.started": "2023-10-20T02:43:21.469307Z",
          "shell.execute_reply": "2023-10-20T02:43:24.166707Z"
        },
        "trusted": true,
        "id": "DZRZXXriBkuP"
      },
      "execution_count": 8,
      "outputs": []
    },
    {
      "cell_type": "markdown",
      "source": [
        "После преобразования предложения будут выглядеть таким образом:"
      ],
      "metadata": {
        "id": "DLdUx7tcBkuP"
      }
    },
    {
      "cell_type": "code",
      "source": [
        "input_sequences[:5]"
      ],
      "metadata": {
        "execution": {
          "iopub.status.busy": "2023-10-20T02:43:24.176914Z",
          "iopub.execute_input": "2023-10-20T02:43:24.177437Z",
          "iopub.status.idle": "2023-10-20T02:43:24.190048Z",
          "shell.execute_reply.started": "2023-10-20T02:43:24.177408Z",
          "shell.execute_reply": "2023-10-20T02:43:24.188618Z"
        },
        "trusted": true,
        "colab": {
          "base_uri": "https://localhost:8080/"
        },
        "id": "rcMeQiF_BkuS",
        "outputId": "086e880f-637d-4ee1-aeb9-24d0b049bd48"
      },
      "execution_count": 9,
      "outputs": [
        {
          "output_type": "execute_result",
          "data": {
            "text/plain": [
              "[[8923, 12],\n",
              " [8923, 12, 2472],\n",
              " [8923, 12, 2472, 31],\n",
              " [8923, 12, 2472, 31, 6465],\n",
              " [8923, 12, 2472, 31, 6465, 3]]"
            ]
          },
          "metadata": {},
          "execution_count": 9
        }
      ]
    },
    {
      "cell_type": "code",
      "source": [
        "before = input_sequences[1]\n",
        "max_seq_len = max(len(x) for x in input_sequences)"
      ],
      "metadata": {
        "execution": {
          "iopub.status.busy": "2023-10-20T02:43:24.191688Z",
          "iopub.execute_input": "2023-10-20T02:43:24.191971Z",
          "iopub.status.idle": "2023-10-20T02:43:24.200502Z",
          "shell.execute_reply.started": "2023-10-20T02:43:24.191947Z",
          "shell.execute_reply": "2023-10-20T02:43:24.199488Z"
        },
        "trusted": true,
        "id": "HUIhKSPMBkuT"
      },
      "execution_count": 10,
      "outputs": []
    },
    {
      "cell_type": "markdown",
      "source": [
        "### Padding\n",
        "Созданные n-граммы не обладают одинаковой длиной, что необходимо для дальнейших вычислений. Чтобы все последовательности соответствовали одинаковой длине, необходимо дополнить последовательности нулевыми значениями."
      ],
      "metadata": {
        "id": "Tqx3qTCFBkuT"
      }
    },
    {
      "cell_type": "code",
      "source": [
        "input_sequences = np.array(pad_sequences(input_sequences, maxlen=max_seq_len, padding = 'pre'))"
      ],
      "metadata": {
        "execution": {
          "iopub.status.busy": "2023-10-20T02:43:24.278030Z",
          "iopub.execute_input": "2023-10-20T02:43:24.278319Z",
          "iopub.status.idle": "2023-10-20T02:43:26.347219Z",
          "shell.execute_reply.started": "2023-10-20T02:43:24.278289Z",
          "shell.execute_reply": "2023-10-20T02:43:26.346056Z"
        },
        "trusted": true,
        "id": "ccdW6lUGBkuU"
      },
      "execution_count": 11,
      "outputs": []
    },
    {
      "cell_type": "code",
      "source": [
        "after = input_sequences[1]"
      ],
      "metadata": {
        "execution": {
          "iopub.status.busy": "2023-10-20T02:43:26.348687Z",
          "iopub.execute_input": "2023-10-20T02:43:26.349560Z",
          "iopub.status.idle": "2023-10-20T02:43:26.353842Z",
          "shell.execute_reply.started": "2023-10-20T02:43:26.349529Z",
          "shell.execute_reply": "2023-10-20T02:43:26.352501Z"
        },
        "trusted": true,
        "id": "qqh6Eo51BkuU"
      },
      "execution_count": 12,
      "outputs": []
    },
    {
      "cell_type": "markdown",
      "source": [
        "В результате последовательности будут иметь следующий вид:"
      ],
      "metadata": {
        "id": "rHZuOhFhBkuU"
      }
    },
    {
      "cell_type": "code",
      "source": [
        "print(f'До: {before}')\n",
        "print(f'\\nПосле: {after}')"
      ],
      "metadata": {
        "execution": {
          "iopub.status.busy": "2023-10-20T02:43:26.355850Z",
          "iopub.execute_input": "2023-10-20T02:43:26.356250Z",
          "iopub.status.idle": "2023-10-20T02:43:26.368257Z",
          "shell.execute_reply.started": "2023-10-20T02:43:26.356210Z",
          "shell.execute_reply": "2023-10-20T02:43:26.367480Z"
        },
        "trusted": true,
        "colab": {
          "base_uri": "https://localhost:8080/"
        },
        "id": "ZNZJfQDwBkuU",
        "outputId": "c88c1527-237f-473c-8838-84ac95aee1af"
      },
      "execution_count": 13,
      "outputs": [
        {
          "output_type": "stream",
          "name": "stdout",
          "text": [
            "До: [8923, 12, 2472]\n",
            "\n",
            "После: [   0    0    0    0    0    0    0    0    0    0    0    0    0    0\n",
            "    0    0    0    0    0    0    0    0    0    0    0    0    0    0\n",
            "    0    0    0    0    0    0    0    0    0    0    0    0    0    0\n",
            "    0    0    0    0    0    0    0    0    0    0    0    0    0    0\n",
            "    0    0    0    0    0    0    0    0    0    0    0    0    0    0\n",
            "    0    0    0    0 8923   12 2472]\n"
          ]
        }
      ]
    },
    {
      "cell_type": "markdown",
      "source": [
        "\n",
        "После подготовки корпуса нужно создать набор данных, состоящий из пар \"feature-label\". Этот набор понадобится для обучения модели"
      ],
      "metadata": {
        "id": "i0rZwndzBkuV"
      }
    },
    {
      "cell_type": "code",
      "source": [
        "features, labels = input_sequences[:, :-1], input_sequences[:, -1],\n",
        "labels = tf.keras.utils.to_categorical(labels, num_classes=total_words)"
      ],
      "metadata": {
        "execution": {
          "iopub.status.busy": "2023-10-20T02:43:26.369614Z",
          "iopub.execute_input": "2023-10-20T02:43:26.370374Z",
          "iopub.status.idle": "2023-10-20T02:43:26.382135Z",
          "shell.execute_reply.started": "2023-10-20T02:43:26.370346Z",
          "shell.execute_reply": "2023-10-20T02:43:26.380981Z"
        },
        "trusted": true,
        "id": "--gZtvlZBkua"
      },
      "execution_count": 14,
      "outputs": []
    },
    {
      "cell_type": "markdown",
      "source": [
        "Чтобы не столкнуться с проблемой нехватки памяти уменьшим объем используемых данных до одной трети"
      ],
      "metadata": {
        "id": "N9vCwro-Bkuc"
      }
    },
    {
      "cell_type": "code",
      "source": [
        "with strategy.scope():\n",
        "    n = 0.01\n",
        "    slice_size = int(len(features)*n)\n",
        "    features=  features[:slice_size, :]\n",
        "    labels = labels[:slice_size, :]"
      ],
      "metadata": {
        "execution": {
          "iopub.status.busy": "2023-10-20T02:43:28.948442Z",
          "iopub.execute_input": "2023-10-20T02:43:28.948860Z",
          "iopub.status.idle": "2023-10-20T02:43:34.386031Z",
          "shell.execute_reply.started": "2023-10-20T02:43:28.948829Z",
          "shell.execute_reply": "2023-10-20T02:43:34.385024Z"
        },
        "trusted": true,
        "id": "_tj55G9OBkuc"
      },
      "execution_count": 15,
      "outputs": []
    },
    {
      "cell_type": "markdown",
      "source": [
        "# Создание модели\n",
        "Модель будет выполнять следующий алгоритм:\n",
        "\n",
        "\n",
        "1.   Встраивание последовательностей векторы\n",
        "2.   Обработка с помощью LSTM-слоя\n",
        "3.   Предсказание следующего слова, используя выходной слой с функцией активации Softmax\n"
      ],
      "metadata": {
        "id": "lwxaGpM9Bkud"
      }
    },
    {
      "cell_type": "code",
      "source": [
        "#Create the model!\n",
        "def generator_model():\n",
        "    tf.random.set_seed(42)\n",
        "    model = Sequential()\n",
        "    model.add(Embedding(total_words, 100, input_length = max_seq_len-1)),\n",
        "    model.add(Bidirectional(LSTM(64, return_sequences = True))),\n",
        "    model.add(Bidirectional(LSTM(32))),\n",
        "    model.add(Dense(64, activation = 'relu')),\n",
        "    model.add(Dense(total_words, activation = 'softmax'))\n",
        "    return model\n"
      ],
      "metadata": {
        "execution": {
          "iopub.status.busy": "2023-10-20T02:43:36.354263Z",
          "iopub.execute_input": "2023-10-20T02:43:36.354718Z",
          "iopub.status.idle": "2023-10-20T02:43:36.364936Z",
          "shell.execute_reply.started": "2023-10-20T02:43:36.354679Z",
          "shell.execute_reply": "2023-10-20T02:43:36.363548Z"
        },
        "trusted": true,
        "id": "a1KdUA50Bkud"
      },
      "execution_count": 16,
      "outputs": []
    },
    {
      "cell_type": "code",
      "source": [
        "with strategy.scope():\n",
        "    model = generator_model()\n",
        "    model.compile(loss = 'categorical_crossentropy',\n",
        "                 optimizer = tf.keras.optimizers.Adam(learning_rate = 0.002),\n",
        "                 metrics = ['accuracy'])"
      ],
      "metadata": {
        "execution": {
          "iopub.status.busy": "2023-10-20T02:43:36.366651Z",
          "iopub.execute_input": "2023-10-20T02:43:36.367459Z",
          "iopub.status.idle": "2023-10-20T02:43:37.833405Z",
          "shell.execute_reply.started": "2023-10-20T02:43:36.367411Z",
          "shell.execute_reply": "2023-10-20T02:43:37.831978Z"
        },
        "trusted": true,
        "id": "rmmww1tNBkud"
      },
      "execution_count": 17,
      "outputs": []
    },
    {
      "cell_type": "code",
      "source": [
        "model.summary()"
      ],
      "metadata": {
        "execution": {
          "iopub.status.busy": "2023-10-20T02:43:37.834951Z",
          "iopub.execute_input": "2023-10-20T02:43:37.835411Z",
          "iopub.status.idle": "2023-10-20T02:43:37.867248Z",
          "shell.execute_reply.started": "2023-10-20T02:43:37.835368Z",
          "shell.execute_reply": "2023-10-20T02:43:37.866371Z"
        },
        "trusted": true,
        "colab": {
          "base_uri": "https://localhost:8080/"
        },
        "id": "-e8W0SbuBkue",
        "outputId": "b12de4ec-ce78-4502-91eb-63e61d29a55c"
      },
      "execution_count": 18,
      "outputs": [
        {
          "output_type": "stream",
          "name": "stdout",
          "text": [
            "Model: \"sequential\"\n",
            "_________________________________________________________________\n",
            " Layer (type)                Output Shape              Param #   \n",
            "=================================================================\n",
            " embedding (Embedding)       (None, 76, 100)           2391800   \n",
            "                                                                 \n",
            " bidirectional (Bidirection  (None, 76, 128)           84480     \n",
            " al)                                                             \n",
            "                                                                 \n",
            " bidirectional_1 (Bidirecti  (None, 64)                41216     \n",
            " onal)                                                           \n",
            "                                                                 \n",
            " dense (Dense)               (None, 64)                4160      \n",
            "                                                                 \n",
            " dense_1 (Dense)             (None, 23918)             1554670   \n",
            "                                                                 \n",
            "=================================================================\n",
            "Total params: 4076326 (15.55 MB)\n",
            "Trainable params: 4076326 (15.55 MB)\n",
            "Non-trainable params: 0 (0.00 Byte)\n",
            "_________________________________________________________________\n"
          ]
        }
      ]
    },
    {
      "cell_type": "markdown",
      "source": [
        "### Trainging the Model"
      ],
      "metadata": {
        "id": "OJFNYEHJBkug"
      }
    },
    {
      "cell_type": "code",
      "source": [
        "EPOCHS = 20\n",
        "history = model.fit(features, labels, epochs = EPOCHS)"
      ],
      "metadata": {
        "_kg_hide-output": false,
        "execution": {
          "iopub.status.busy": "2023-10-20T02:50:09.917444Z",
          "iopub.execute_input": "2023-10-20T02:50:09.917838Z",
          "iopub.status.idle": "2023-10-20T02:55:42.955300Z",
          "shell.execute_reply.started": "2023-10-20T02:50:09.917799Z",
          "shell.execute_reply": "2023-10-20T02:55:42.954216Z"
        },
        "trusted": true,
        "colab": {
          "base_uri": "https://localhost:8080/"
        },
        "id": "VhEvd1JwBkuh",
        "outputId": "cf7226f1-2fbe-4844-ad81-7aa99c2aa581"
      },
      "execution_count": 19,
      "outputs": [
        {
          "output_type": "stream",
          "name": "stdout",
          "text": [
            "Epoch 1/20\n",
            "252/252 [==============================] - 37s 96ms/step - loss: 7.5632 - accuracy: 0.0490\n",
            "Epoch 2/20\n",
            "252/252 [==============================] - 10s 41ms/step - loss: 6.4702 - accuracy: 0.0506\n",
            "Epoch 3/20\n",
            "252/252 [==============================] - 9s 36ms/step - loss: 6.2269 - accuracy: 0.0514\n",
            "Epoch 4/20\n",
            "252/252 [==============================] - 9s 35ms/step - loss: 6.0462 - accuracy: 0.0509\n",
            "Epoch 5/20\n",
            "252/252 [==============================] - 8s 32ms/step - loss: 5.9068 - accuracy: 0.0531\n",
            "Epoch 6/20\n",
            "252/252 [==============================] - 8s 30ms/step - loss: 5.7928 - accuracy: 0.0564\n",
            "Epoch 7/20\n",
            "252/252 [==============================] - 8s 31ms/step - loss: 5.6945 - accuracy: 0.0596\n",
            "Epoch 8/20\n",
            "252/252 [==============================] - 8s 32ms/step - loss: 5.5887 - accuracy: 0.0624\n",
            "Epoch 9/20\n",
            "252/252 [==============================] - 8s 31ms/step - loss: 5.4769 - accuracy: 0.0735\n",
            "Epoch 10/20\n",
            "252/252 [==============================] - 8s 31ms/step - loss: 5.3610 - accuracy: 0.0873\n",
            "Epoch 11/20\n",
            "252/252 [==============================] - 9s 34ms/step - loss: 5.2547 - accuracy: 0.0948\n",
            "Epoch 12/20\n",
            "252/252 [==============================] - 8s 31ms/step - loss: 5.1455 - accuracy: 0.1024\n",
            "Epoch 13/20\n",
            "252/252 [==============================] - 8s 31ms/step - loss: 5.0434 - accuracy: 0.1086\n",
            "Epoch 14/20\n",
            "252/252 [==============================] - 8s 30ms/step - loss: 4.9293 - accuracy: 0.1157\n",
            "Epoch 15/20\n",
            "252/252 [==============================] - 8s 32ms/step - loss: 4.8216 - accuracy: 0.1266\n",
            "Epoch 16/20\n",
            "252/252 [==============================] - 8s 30ms/step - loss: 4.7213 - accuracy: 0.1333\n",
            "Epoch 17/20\n",
            "252/252 [==============================] - 7s 29ms/step - loss: 4.6073 - accuracy: 0.1419\n",
            "Epoch 18/20\n",
            "252/252 [==============================] - 8s 31ms/step - loss: 4.5055 - accuracy: 0.1526\n",
            "Epoch 19/20\n",
            "252/252 [==============================] - 8s 31ms/step - loss: 4.4178 - accuracy: 0.1574\n",
            "Epoch 20/20\n",
            "252/252 [==============================] - 7s 29ms/step - loss: 4.3179 - accuracy: 0.1652\n"
          ]
        }
      ]
    },
    {
      "cell_type": "markdown",
      "source": [
        "Графики точности и loss-функции"
      ],
      "metadata": {
        "id": "a0vOyMkOBkuh"
      }
    },
    {
      "cell_type": "code",
      "source": [
        "def plot_graph(history, string):\n",
        "    plt.plot(history.history[string])\n",
        "    plt.xlabel('Эпохи')\n",
        "    plt.ylabel(string)\n",
        "    plt.show()"
      ],
      "metadata": {
        "execution": {
          "iopub.status.busy": "2023-10-20T02:50:04.962920Z",
          "iopub.status.idle": "2023-10-20T02:50:04.963522Z",
          "shell.execute_reply.started": "2023-10-20T02:50:04.963240Z",
          "shell.execute_reply": "2023-10-20T02:50:04.963269Z"
        },
        "trusted": true,
        "id": "Pnp7EujNBkui"
      },
      "execution_count": null,
      "outputs": []
    },
    {
      "cell_type": "code",
      "source": [
        "plot_graph(history, 'accuracy')\n",
        "plot_graph(history, 'loss')"
      ],
      "metadata": {
        "execution": {
          "iopub.status.busy": "2023-10-20T02:50:04.966134Z",
          "iopub.status.idle": "2023-10-20T02:50:04.966570Z",
          "shell.execute_reply.started": "2023-10-20T02:50:04.966385Z",
          "shell.execute_reply": "2023-10-20T02:50:04.966404Z"
        },
        "trusted": true,
        "colab": {
          "base_uri": "https://localhost:8080/",
          "height": 881
        },
        "id": "X0dh1JPcBkui",
        "outputId": "d85a2a38-4cb5-4d9d-bde5-f7215633b809"
      },
      "execution_count": null,
      "outputs": [
        {
          "output_type": "display_data",
          "data": {
            "text/plain": [
              "<Figure size 640x480 with 1 Axes>"
            ],
            "image/png": "[encoded data removed]"
          },
          "metadata": {}
        },
        {
          "output_type": "display_data",
          "data": {
            "text/plain": [
              "<Figure size 640x480 with 1 Axes>"
            ],
            "image/png": "[encoded data removed]"
          },
          "metadata": {}
        }
      ]
    },
    {
      "cell_type": "markdown",
      "source": [
        "## Генерация текста"
      ],
      "metadata": {
        "id": "qC7vvHzhBkuj"
      }
    },
    {
      "cell_type": "code",
      "source": [
        "def test_generator(string, num):\n",
        "    if len(string)==0:\n",
        "        print('')\n",
        "        return\n",
        "    for _ in range(num):\n",
        "        token_list = tokenizer.texts_to_sequences([string])[0]\n",
        "        token_list = pad_sequences([token_list], maxlen=max_seq_len-1, padding = 'pre')\n",
        "        probabilities = model.predict(token_list)\n",
        "        choice = np.random.choice([1,2,3])\n",
        "        predicted = np.argsort(probabilities, axis = -1)[0][-choice]\n",
        "        if predicted !=0:\n",
        "            generated_word = tokenizer.index_word[predicted]\n",
        "            string += \" \" + generated_word\n",
        "    print(string)"
      ],
      "metadata": {
        "execution": {
          "iopub.status.busy": "2023-10-20T02:56:46.847620Z",
          "iopub.execute_input": "2023-10-20T02:56:46.848010Z",
          "iopub.status.idle": "2023-10-20T02:56:46.855912Z",
          "shell.execute_reply.started": "2023-10-20T02:56:46.847982Z",
          "shell.execute_reply": "2023-10-20T02:56:46.854607Z"
        },
        "trusted": true,
        "id": "uT82aTEuBkuj"
      },
      "execution_count": 20,
      "outputs": []
    },
    {
      "cell_type": "markdown",
      "source": [
        "Проверка"
      ],
      "metadata": {
        "id": "5136pipIBkuk"
      }
    },
    {
      "cell_type": "code",
      "source": [
        "\n",
        "#@markdown **Введение промта и требуемого количества слов**\n",
        "promt = \"you\" #@param {type: \"string\"}\n",
        "seq_length = 10 #@param {type: \"integer\"}\n",
        "test_generator(promt, seq_length)"
      ],
      "metadata": {
        "colab": {
          "base_uri": "https://localhost:8080/"
        },
        "id": "7XW4xGEqKlld",
        "outputId": "35c0a1ce-326e-451f-e239-498d0da4dd44"
      },
      "execution_count": 25,
      "outputs": [
        {
          "output_type": "stream",
          "name": "stdout",
          "text": [
            "1/1 [==============================] - 0s 70ms/step\n",
            "1/1 [==============================] - 0s 68ms/step\n",
            "1/1 [==============================] - 0s 76ms/step\n",
            "1/1 [==============================] - 0s 68ms/step\n",
            "1/1 [==============================] - 0s 71ms/step\n",
            "1/1 [==============================] - 0s 73ms/step\n",
            "1/1 [==============================] - 0s 69ms/step\n",
            "1/1 [==============================] - 0s 71ms/step\n",
            "1/1 [==============================] - 0s 72ms/step\n",
            "1/1 [==============================] - 0s 67ms/step\n",
            "you do a lieutenant man of barely clinging he man is\n"
          ]
        }
      ]
    }
  ]
}