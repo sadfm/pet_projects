{
  "nbformat": 4,
  "nbformat_minor": 0,
  "metadata": {
    "colab": {
      "provenance": []
    },
    "kernelspec": {
      "name": "python3",
      "display_name": "Python 3"
    },
    "language_info": {
      "name": "python"
    }
  },
  "cells": [
    {
      "cell_type": "markdown",
      "source": [
        "# RNN-модель для генерации текста с помощью PyTorch"
      ],
      "metadata": {
        "id": "8xvSt5oItrJl"
      }
    },
    {
      "cell_type": "markdown",
      "source": [
        "## Импорты"
      ],
      "metadata": {
        "id": "Pt3Rs1EatrHH"
      }
    },
    {
      "cell_type": "code",
      "source": [
        "import torch\n",
        "import numpy as np\n",
        "import pandas as pd\n",
        "from torch import nn, optim\n",
        "from torch.utils.data import DataLoader\n",
        "from collections import Counter"
      ],
      "metadata": {
        "id": "qGszhO3ya4uS"
      },
      "execution_count": 72,
      "outputs": []
    },
    {
      "cell_type": "markdown",
      "source": [
        "## Загрузка и предобработка данных"
      ],
      "metadata": {
        "id": "1m5Kez24gm0_"
      }
    },
    {
      "cell_type": "markdown",
      "source": [
        "Для обучения воспользуемся [датасетом](https://www.kaggle.com/datasets/lizakonopelko/disco-elysium-dialogue-texts), состоящим из всего текста игры Disco Elysium\n",
        "\n",
        "Перед построением модели необходимо провести предварительную обработку данных, избавившись от некоторых особых символов, плохо влияющих на результат генерации.\n",
        "Также для ускорения дальнейшего обучения и предотвращения возможных проблем с нехваткой памяти будем использовать только первые 1500 записей"
      ],
      "metadata": {
        "id": "6fY5EeRap68M"
      }
    },
    {
      "cell_type": "code",
      "source": [
        "train_df = pd.read_csv('/content/texts_extracted.csv', header=None, sep='\\t')\n",
        "train_df.rename(columns={0: \"text\"}, inplace=True)\n",
        "train_df['text'] = train_df['text'].str.replace('\"', '')\n",
        "train_df['text'] = train_df['text'].str.replace(\"'\", '')\n",
        "train_df.head()"
      ],
      "metadata": {
        "colab": {
          "base_uri": "https://localhost:8080/",
          "height": 206
        },
        "id": "Yw9MiP8lvCQV",
        "outputId": "c5dae725-c8ca-4485-8d1c-386bed72a3f1"
      },
      "execution_count": 73,
      "outputs": [
        {
          "output_type": "execute_result",
          "data": {
            "text/plain": [
              "                                                text\n",
              "0  88... This elevator was maintained a long time...\n",
              "1  A man my age? What are you implying? Im at the...\n",
              "2  A science person? He snarls. The *so-called* s...\n",
              "3  A slow, sad song started playing. Like organ m...\n",
              "4  After life, death -- after death, life again. ..."
            ],
            "text/html": [
              "\n",
              "  <div id=\"df-b4ec9da3-d1f3-44e6-a322-de86443b8b47\" class=\"colab-df-container\">\n",
              "    <div>\n",
              "<style scoped>\n",
              "    .dataframe tbody tr th:only-of-type {\n",
              "        vertical-align: middle;\n",
              "    }\n",
              "\n",
              "    .dataframe tbody tr th {\n",
              "        vertical-align: top;\n",
              "    }\n",
              "\n",
              "    .dataframe thead th {\n",
              "        text-align: right;\n",
              "    }\n",
              "</style>\n",
              "<table border=\"1\" class=\"dataframe\">\n",
              "  <thead>\n",
              "    <tr style=\"text-align: right;\">\n",
              "      <th></th>\n",
              "      <th>text</th>\n",
              "    </tr>\n",
              "  </thead>\n",
              "  <tbody>\n",
              "    <tr>\n",
              "      <th>0</th>\n",
              "      <td>88... This elevator was maintained a long time...</td>\n",
              "    </tr>\n",
              "    <tr>\n",
              "      <th>1</th>\n",
              "      <td>A man my age? What are you implying? Im at the...</td>\n",
              "    </tr>\n",
              "    <tr>\n",
              "      <th>2</th>\n",
              "      <td>A science person? He snarls. The *so-called* s...</td>\n",
              "    </tr>\n",
              "    <tr>\n",
              "      <th>3</th>\n",
              "      <td>A slow, sad song started playing. Like organ m...</td>\n",
              "    </tr>\n",
              "    <tr>\n",
              "      <th>4</th>\n",
              "      <td>After life, death -- after death, life again. ...</td>\n",
              "    </tr>\n",
              "  </tbody>\n",
              "</table>\n",
              "</div>\n",
              "    <div class=\"colab-df-buttons\">\n",
              "\n",
              "  <div class=\"colab-df-container\">\n",
              "    <button class=\"colab-df-convert\" onclick=\"convertToInteractive('df-b4ec9da3-d1f3-44e6-a322-de86443b8b47')\"\n",
              "            title=\"Convert this dataframe to an interactive table.\"\n",
              "            style=\"display:none;\">\n",
              "\n",
              "  <svg xmlns=\"http://www.w3.org/2000/svg\" height=\"24px\" viewBox=\"0 -960 960 960\">\n",
              "    <path d=\"M120-120v-720h720v720H120Zm60-500h600v-160H180v160Zm220 220h160v-160H400v160Zm0 220h160v-160H400v160ZM180-400h160v-160H180v160Zm440 0h160v-160H620v160ZM180-180h160v-160H180v160Zm440 0h160v-160H620v160Z\"/>\n",
              "  </svg>\n",
              "    </button>\n",
              "\n",
              "  <style>\n",
              "    .colab-df-container {\n",
              "      display:flex;\n",
              "      gap: 12px;\n",
              "    }\n",
              "\n",
              "    .colab-df-convert {\n",
              "      background-color: #E8F0FE;\n",
              "      border: none;\n",
              "      border-radius: 50%;\n",
              "      cursor: pointer;\n",
              "      display: none;\n",
              "      fill: #1967D2;\n",
              "      height: 32px;\n",
              "      padding: 0 0 0 0;\n",
              "      width: 32px;\n",
              "    }\n",
              "\n",
              "    .colab-df-convert:hover {\n",
              "      background-color: #E2EBFA;\n",
              "      box-shadow: 0px 1px 2px rgba(60, 64, 67, 0.3), 0px 1px 3px 1px rgba(60, 64, 67, 0.15);\n",
              "      fill: #174EA6;\n",
              "    }\n",
              "\n",
              "    .colab-df-buttons div {\n",
              "      margin-bottom: 4px;\n",
              "    }\n",
              "\n",
              "    [theme=dark] .colab-df-convert {\n",
              "      background-color: #3B4455;\n",
              "      fill: #D2E3FC;\n",
              "    }\n",
              "\n",
              "    [theme=dark] .colab-df-convert:hover {\n",
              "      background-color: #434B5C;\n",
              "      box-shadow: 0px 1px 3px 1px rgba(0, 0, 0, 0.15);\n",
              "      filter: drop-shadow(0px 1px 2px rgba(0, 0, 0, 0.3));\n",
              "      fill: #FFFFFF;\n",
              "    }\n",
              "  </style>\n",
              "\n",
              "    <script>\n",
              "      const buttonEl =\n",
              "        document.querySelector('#df-b4ec9da3-d1f3-44e6-a322-de86443b8b47 button.colab-df-convert');\n",
              "      buttonEl.style.display =\n",
              "        google.colab.kernel.accessAllowed ? 'block' : 'none';\n",
              "\n",
              "      async function convertToInteractive(key) {\n",
              "        const element = document.querySelector('#df-b4ec9da3-d1f3-44e6-a322-de86443b8b47');\n",
              "        const dataTable =\n",
              "          await google.colab.kernel.invokeFunction('convertToInteractive',\n",
              "                                                    [key], {});\n",
              "        if (!dataTable) return;\n",
              "\n",
              "        const docLinkHtml = 'Like what you see? Visit the ' +\n",
              "          '<a target=\"_blank\" href=https://colab.research.google.com/notebooks/data_table.ipynb>data table notebook</a>'\n",
              "          + ' to learn more about interactive tables.';\n",
              "        element.innerHTML = '';\n",
              "        dataTable['output_type'] = 'display_data';\n",
              "        await google.colab.output.renderOutput(dataTable, element);\n",
              "        const docLink = document.createElement('div');\n",
              "        docLink.innerHTML = docLinkHtml;\n",
              "        element.appendChild(docLink);\n",
              "      }\n",
              "    </script>\n",
              "  </div>\n",
              "\n",
              "\n",
              "<div id=\"df-e18f6438-2e8b-4c1b-b58e-725dc943f226\">\n",
              "  <button class=\"colab-df-quickchart\" onclick=\"quickchart('df-e18f6438-2e8b-4c1b-b58e-725dc943f226')\"\n",
              "            title=\"Suggest charts.\"\n",
              "            style=\"display:none;\">\n",
              "\n",
              "<svg xmlns=\"http://www.w3.org/2000/svg\" height=\"24px\"viewBox=\"0 0 24 24\"\n",
              "     width=\"24px\">\n",
              "    <g>\n",
              "        <path d=\"M19 3H5c-1.1 0-2 .9-2 2v14c0 1.1.9 2 2 2h14c1.1 0 2-.9 2-2V5c0-1.1-.9-2-2-2zM9 17H7v-7h2v7zm4 0h-2V7h2v10zm4 0h-2v-4h2v4z\"/>\n",
              "    </g>\n",
              "</svg>\n",
              "  </button>\n",
              "\n",
              "<style>\n",
              "  .colab-df-quickchart {\n",
              "      --bg-color: #E8F0FE;\n",
              "      --fill-color: #1967D2;\n",
              "      --hover-bg-color: #E2EBFA;\n",
              "      --hover-fill-color: #174EA6;\n",
              "      --disabled-fill-color: #AAA;\n",
              "      --disabled-bg-color: #DDD;\n",
              "  }\n",
              "\n",
              "  [theme=dark] .colab-df-quickchart {\n",
              "      --bg-color: #3B4455;\n",
              "      --fill-color: #D2E3FC;\n",
              "      --hover-bg-color: #434B5C;\n",
              "      --hover-fill-color: #FFFFFF;\n",
              "      --disabled-bg-color: #3B4455;\n",
              "      --disabled-fill-color: #666;\n",
              "  }\n",
              "\n",
              "  .colab-df-quickchart {\n",
              "    background-color: var(--bg-color);\n",
              "    border: none;\n",
              "    border-radius: 50%;\n",
              "    cursor: pointer;\n",
              "    display: none;\n",
              "    fill: var(--fill-color);\n",
              "    height: 32px;\n",
              "    padding: 0;\n",
              "    width: 32px;\n",
              "  }\n",
              "\n",
              "  .colab-df-quickchart:hover {\n",
              "    background-color: var(--hover-bg-color);\n",
              "    box-shadow: 0 1px 2px rgba(60, 64, 67, 0.3), 0 1px 3px 1px rgba(60, 64, 67, 0.15);\n",
              "    fill: var(--button-hover-fill-color);\n",
              "  }\n",
              "\n",
              "  .colab-df-quickchart-complete:disabled,\n",
              "  .colab-df-quickchart-complete:disabled:hover {\n",
              "    background-color: var(--disabled-bg-color);\n",
              "    fill: var(--disabled-fill-color);\n",
              "    box-shadow: none;\n",
              "  }\n",
              "\n",
              "  .colab-df-spinner {\n",
              "    border: 2px solid var(--fill-color);\n",
              "    border-color: transparent;\n",
              "    border-bottom-color: var(--fill-color);\n",
              "    animation:\n",
              "      spin 1s steps(1) infinite;\n",
              "  }\n",
              "\n",
              "  @keyframes spin {\n",
              "    0% {\n",
              "      border-color: transparent;\n",
              "      border-bottom-color: var(--fill-color);\n",
              "      border-left-color: var(--fill-color);\n",
              "    }\n",
              "    20% {\n",
              "      border-color: transparent;\n",
              "      border-left-color: var(--fill-color);\n",
              "      border-top-color: var(--fill-color);\n",
              "    }\n",
              "    30% {\n",
              "      border-color: transparent;\n",
              "      border-left-color: var(--fill-color);\n",
              "      border-top-color: var(--fill-color);\n",
              "      border-right-color: var(--fill-color);\n",
              "    }\n",
              "    40% {\n",
              "      border-color: transparent;\n",
              "      border-right-color: var(--fill-color);\n",
              "      border-top-color: var(--fill-color);\n",
              "    }\n",
              "    60% {\n",
              "      border-color: transparent;\n",
              "      border-right-color: var(--fill-color);\n",
              "    }\n",
              "    80% {\n",
              "      border-color: transparent;\n",
              "      border-right-color: var(--fill-color);\n",
              "      border-bottom-color: var(--fill-color);\n",
              "    }\n",
              "    90% {\n",
              "      border-color: transparent;\n",
              "      border-bottom-color: var(--fill-color);\n",
              "    }\n",
              "  }\n",
              "</style>\n",
              "\n",
              "  <script>\n",
              "    async function quickchart(key) {\n",
              "      const quickchartButtonEl =\n",
              "        document.querySelector('#' + key + ' button');\n",
              "      quickchartButtonEl.disabled = true;  // To prevent multiple clicks.\n",
              "      quickchartButtonEl.classList.add('colab-df-spinner');\n",
              "      try {\n",
              "        const charts = await google.colab.kernel.invokeFunction(\n",
              "            'suggestCharts', [key], {});\n",
              "      } catch (error) {\n",
              "        console.error('Error during call to suggestCharts:', error);\n",
              "      }\n",
              "      quickchartButtonEl.classList.remove('colab-df-spinner');\n",
              "      quickchartButtonEl.classList.add('colab-df-quickchart-complete');\n",
              "    }\n",
              "    (() => {\n",
              "      let quickchartButtonEl =\n",
              "        document.querySelector('#df-e18f6438-2e8b-4c1b-b58e-725dc943f226 button');\n",
              "      quickchartButtonEl.style.display =\n",
              "        google.colab.kernel.accessAllowed ? 'block' : 'none';\n",
              "    })();\n",
              "  </script>\n",
              "</div>\n",
              "    </div>\n",
              "  </div>\n"
            ]
          },
          "metadata": {},
          "execution_count": 73
        }
      ]
    },
    {
      "cell_type": "code",
      "source": [
        "print('Number of entries: ', train_df.shape[0])\n",
        "print('Number of characters: ', train_df['text'].str.len().sum())"
      ],
      "metadata": {
        "colab": {
          "base_uri": "https://localhost:8080/"
        },
        "id": "qXVt9A4YO3Qt",
        "outputId": "04aebbbc-b594-407b-8bf1-3cec77e6e0c7"
      },
      "execution_count": 74,
      "outputs": [
        {
          "output_type": "stream",
          "name": "stdout",
          "text": [
            "Number of entries:  58818\n",
            "Number of characters:  4716416\n"
          ]
        }
      ]
    },
    {
      "cell_type": "code",
      "source": [
        "train_df = train_df.sample(n=1500)\n",
        "print('Number of characters: ', train_df['text'].str.len().sum())"
      ],
      "metadata": {
        "colab": {
          "base_uri": "https://localhost:8080/"
        },
        "id": "19Ucv0B1Og05",
        "outputId": "a507e09f-15f1-4d3e-e59c-6b4b8fc8cb22"
      },
      "execution_count": 75,
      "outputs": [
        {
          "output_type": "stream",
          "name": "stdout",
          "text": [
            "Number of characters:  120573\n"
          ]
        }
      ]
    },
    {
      "cell_type": "markdown",
      "source": [
        "## Создание модели\n",
        "Это стандартная модель PyTorch. Embedding слой преобразует индексы слов в векторы слов. LSTM является основной обучаемой частью сети - в реализации PyTorch внутри ячейки LSTM реализован механизм стробирования, позволяющий обучать длинные последовательности данных\n",
        "\n",
        "LSTM имеет дополнительную информацию о состоянии, которую он переносит между эпизодами обучения. Функция forward имеет аргумент prev_state. Это состояние хранится вне модели и передается вручную\n",
        "\n",
        "Также имеется функция init_state. Она вызывается в начале каждой эпохи для инициализации нужной формы состояния"
      ],
      "metadata": {
        "id": "R3JO-BSs3VAs"
      }
    },
    {
      "cell_type": "code",
      "execution_count": 76,
      "metadata": {
        "id": "J9lG4LzrEjvE"
      },
      "outputs": [],
      "source": [
        "class Model(nn.Module):\n",
        "    def __init__(self, dataset):\n",
        "        super(Model, self).__init__()\n",
        "        self.lstm_size = 128\n",
        "        self.embedding_dim = 128\n",
        "        self.num_layers = 3\n",
        "\n",
        "        n_vocab = len(dataset.uniq_words)\n",
        "        self.embedding = nn.Embedding(\n",
        "            num_embeddings=n_vocab,\n",
        "            embedding_dim=self.embedding_dim)\n",
        "        self.lstm = nn.LSTM(\n",
        "            input_size=self.lstm_size,\n",
        "            hidden_size=self.lstm_size,\n",
        "            num_layers=self.num_layers,\n",
        "            dropout=0.2)\n",
        "        self.fc = nn.Linear(self.lstm_size, n_vocab)\n",
        "\n",
        "    def forward(self, x, prev_state):\n",
        "        embed = self.embedding(x)\n",
        "        output, state = self.lstm(embed, prev_state)\n",
        "        logits = self.fc(output)\n",
        "\n",
        "        return logits, state\n",
        "\n",
        "    def init_state(self, sequence_length):\n",
        "        return (torch.zeros(self.num_layers, sequence_length, self.lstm_size),\n",
        "                torch.zeros(self.num_layers, sequence_length, self.lstm_size))"
      ]
    },
    {
      "cell_type": "markdown",
      "source": [
        "## Класс Dataset\n",
        "Создаем класс Dataset, наследуемый от класса torch.utils.data.Dataset\n",
        "\n",
        "Функция load_words загружает датасет. В датасете подсчитываются уникальные слова, определяющие размер словарного запаса сети и размер векторов. index_to_word и word_to_index преобразуют слова в числовые индексы и наоборот."
      ],
      "metadata": {
        "id": "HDWHG7YpNLIo"
      }
    },
    {
      "cell_type": "code",
      "source": [
        "class Dataset(torch.utils.data.Dataset):\n",
        "    def __init__(self, sequence_length):\n",
        "        self.words = self.load_words()\n",
        "        self.uniq_words = self.get_uniq_words()\n",
        "        self.sequence_length = sequence_length\n",
        "        self.index_to_word = {index: word for index, word in enumerate(self.uniq_words)}\n",
        "        self.word_to_index = {word: index for index, word in enumerate(self.uniq_words)}\n",
        "\n",
        "        self.words_indexes = [self.word_to_index[w] for w in self.words]\n",
        "\n",
        "    def load_words(self):\n",
        "        source = train_df\n",
        "        text = train_df['text'].str.cat(sep=' ')\n",
        "        return text.split(' ')\n",
        "\n",
        "    def get_uniq_words(self):\n",
        "        word_counts = Counter(self.words)\n",
        "        return sorted(word_counts, key=word_counts.get, reverse=True)\n",
        "\n",
        "    def __len__(self):\n",
        "        return len(self.words_indexes) - self.sequence_length\n",
        "\n",
        "    def __getitem__(self, index):\n",
        "        return (\n",
        "            torch.tensor(self.words_indexes[index:index+self.sequence_length]),\n",
        "            torch.tensor(self.words_indexes[index+1:index+self.sequence_length+1]))"
      ],
      "metadata": {
        "id": "b99cmxtQEoJI"
      },
      "execution_count": 77,
      "outputs": []
    },
    {
      "cell_type": "markdown",
      "source": [
        "## Обучение модели"
      ],
      "metadata": {
        "id": "A-5ys-16ftDg"
      }
    },
    {
      "cell_type": "code",
      "source": [
        "n_epochs = 40\n",
        "batch_size = 128\n",
        "\n",
        "dataset = Dataset(4) # задаем окно, на основании которого будет генерироваться текст\n",
        "model = Model(dataset)\n",
        "dataloader = DataLoader(dataset, batch_size=128, num_workers=2, pin_memory=True)\n",
        "\n",
        "loss_fn = nn.CrossEntropyLoss()\n",
        "optimizer = optim.Adam(model.parameters(), lr=0.001)\n",
        "\n",
        "best_model = None\n",
        "best_loss = np.inf\n",
        "\n",
        "\n",
        "for epoch in range(n_epochs):\n",
        "  model.train()\n",
        "  state_h, state_c = model.init_state(4)\n",
        "\n",
        "  for batch, (x, y) in enumerate(dataloader):\n",
        "    y_pred, (state_h, state_c) = model(x, (state_h, state_c))\n",
        "    loss = loss_fn(y_pred.transpose(1, 2), y)\n",
        "\n",
        "    state_h = state_h.detach()\n",
        "    state_c = state_c.detach()\n",
        "    optimizer.zero_grad()\n",
        "    loss.backward()\n",
        "    optimizer.step()\n",
        "\n",
        "\n",
        "  print({'epoch': epoch, 'loss': loss.item()})"
      ],
      "metadata": {
        "colab": {
          "base_uri": "https://localhost:8080/"
        },
        "id": "qFccyxh3Esxr",
        "outputId": "e9a2a578-a5b1-4032-f721-23c8cb6c395f"
      },
      "execution_count": 78,
      "outputs": [
        {
          "output_type": "stream",
          "name": "stdout",
          "text": [
            "{'epoch': 0, 'loss': 7.471439361572266}\n",
            "{'epoch': 1, 'loss': 7.292314052581787}\n",
            "{'epoch': 2, 'loss': 7.134233474731445}\n",
            "{'epoch': 3, 'loss': 6.966627597808838}\n",
            "{'epoch': 4, 'loss': 6.678420543670654}\n",
            "{'epoch': 5, 'loss': 6.5347700119018555}\n",
            "{'epoch': 6, 'loss': 6.365240573883057}\n",
            "{'epoch': 7, 'loss': 6.23342227935791}\n",
            "{'epoch': 8, 'loss': 6.073067665100098}\n",
            "{'epoch': 9, 'loss': 5.977579593658447}\n",
            "{'epoch': 10, 'loss': 5.8150434494018555}\n",
            "{'epoch': 11, 'loss': 5.687376022338867}\n",
            "{'epoch': 12, 'loss': 5.526748180389404}\n",
            "{'epoch': 13, 'loss': 5.463479042053223}\n",
            "{'epoch': 14, 'loss': 5.347395896911621}\n",
            "{'epoch': 15, 'loss': 5.277071952819824}\n",
            "{'epoch': 16, 'loss': 5.217566967010498}\n",
            "{'epoch': 17, 'loss': 5.101416110992432}\n",
            "{'epoch': 18, 'loss': 4.935789585113525}\n",
            "{'epoch': 19, 'loss': 4.917048454284668}\n",
            "{'epoch': 20, 'loss': 4.687989234924316}\n",
            "{'epoch': 21, 'loss': 4.607418060302734}\n",
            "{'epoch': 22, 'loss': 4.491480827331543}\n",
            "{'epoch': 23, 'loss': 4.4563679695129395}\n",
            "{'epoch': 24, 'loss': 4.436346530914307}\n",
            "{'epoch': 25, 'loss': 4.4076738357543945}\n",
            "{'epoch': 26, 'loss': 4.20144510269165}\n",
            "{'epoch': 27, 'loss': 4.1487274169921875}\n",
            "{'epoch': 28, 'loss': 4.120384693145752}\n",
            "{'epoch': 29, 'loss': 4.0060133934021}\n",
            "{'epoch': 30, 'loss': 3.8720264434814453}\n",
            "{'epoch': 31, 'loss': 3.86442232131958}\n",
            "{'epoch': 32, 'loss': 3.959028720855713}\n",
            "{'epoch': 33, 'loss': 3.91532826423645}\n",
            "{'epoch': 34, 'loss': 3.829394578933716}\n",
            "{'epoch': 35, 'loss': 3.662199020385742}\n",
            "{'epoch': 36, 'loss': 3.570265054702759}\n",
            "{'epoch': 37, 'loss': 3.557154417037964}\n",
            "{'epoch': 38, 'loss': 3.571779727935791}\n",
            "{'epoch': 39, 'loss': 3.4131579399108887}\n"
          ]
        }
      ]
    },
    {
      "cell_type": "code",
      "source": [
        "def predict(dataset, model, text, next_words=20): # 20 - необходимый размер текста\n",
        "    words = text.split(' ')\n",
        "    model.eval()\n",
        "\n",
        "    state_h, state_c = model.init_state(len(words))\n",
        "\n",
        "    for i in range(next_words):\n",
        "        x = torch.tensor([[dataset.word_to_index[w] for w in words[i:]]])\n",
        "        y_pred, (state_h, state_c) = model(x, (state_h, state_c))\n",
        "\n",
        "        last_word_logits = y_pred[0][-1]\n",
        "        p = torch.nn.functional.softmax(last_word_logits, dim=0).detach().numpy()\n",
        "        word_index = np.random.choice(len(last_word_logits), p=p)\n",
        "        words.append(dataset.index_to_word[word_index])\n",
        "    return words\n",
        "\n",
        "\n",
        "print(*predict(dataset, model, text='You'))"
      ],
      "metadata": {
        "colab": {
          "base_uri": "https://localhost:8080/"
        },
        "id": "61Fu9MYnRjq1",
        "outputId": "d822fcd0-9e57-416b-d611-8641860c4a3a"
      },
      "execution_count": 82,
      "outputs": [
        {
          "output_type": "stream",
          "name": "stdout",
          "text": [
            "You enough *out*. -- Im do did to convince a eyes? I can understand. gonna repeat a mesolimbic ice sir. And\n"
          ]
        }
      ]
    }
  ]
}